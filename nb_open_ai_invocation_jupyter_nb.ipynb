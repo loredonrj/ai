{
 "cells": [
  {
   "cell_type": "code",
   "execution_count": 1,
   "metadata": {},
   "outputs": [
    {
     "data": {
      "text/plain": [
       "True"
      ]
     },
     "execution_count": 1,
     "metadata": {},
     "output_type": "execute_result"
    }
   ],
   "source": [
    "import os\n",
    "from dotenv import load_dotenv\n",
    "\n",
    "import openai\n",
    "import langchain\n",
    "from langchain_community.llms import OpenAI\n",
    "from langchain_openai import OpenAI\n",
    "\n",
    "load_dotenv()"
   ]
  },
  {
   "cell_type": "code",
   "execution_count": 2,
   "metadata": {},
   "outputs": [
    {
     "data": {
      "text/plain": [
       "'sk-proj-AFhLIsBK4wv7uloTSaj2T3BlbkFJvfzerlRAj121BhvG8VFT'"
      ]
     },
     "execution_count": 2,
     "metadata": {},
     "output_type": "execute_result"
    }
   ],
   "source": [
    "my_key = os.getenv(\"OPENAI_API_KEY\")\n",
    "#check key\n",
    "my_key"
   ]
  },
  {
   "cell_type": "code",
   "execution_count": 3,
   "metadata": {},
   "outputs": [
    {
     "name": "stdout",
     "output_type": "stream",
     "text": [
      "\n",
      "\n",
      "AI stands for artificial intelligence. It is a branch of computer science that focuses on creating intelligent machines that can think and act like humans. AI involves the development of algorithms and computer programs that can learn from data, make decisions, and solve problems without explicit instructions from a human. It encompasses a wide range of technologies, including machine learning, natural language processing, and robotics. AI has applications in various industries, such as healthcare, finance, transportation, and entertainment. Its goal is to create machines that can perform tasks that typically require human intelligence, such as recognizing patterns, understanding language, and making decisions.\n"
     ]
    }
   ],
   "source": [
    "llm = OpenAI(temperature=0, openai_api_key=my_key)\n",
    "text = \"What is AI?\"\n",
    "print(llm.invoke(text))"
   ]
  }
 ],
 "metadata": {
  "kernelspec": {
   "display_name": "venv2305",
   "language": "python",
   "name": "python3"
  },
  "language_info": {
   "codemirror_mode": {
    "name": "ipython",
    "version": 3
   },
   "file_extension": ".py",
   "mimetype": "text/x-python",
   "name": "python",
   "nbconvert_exporter": "python",
   "pygments_lexer": "ipython3",
   "version": "3.9.6"
  }
 },
 "nbformat": 4,
 "nbformat_minor": 2
}
