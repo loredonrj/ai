{
 "cells": [
  {
   "cell_type": "markdown",
   "metadata": {},
   "source": [
    "## Part 1 : One neuron with 4 inputs, 4 weights, 1 bias"
   ]
  },
  {
   "cell_type": "code",
   "execution_count": null,
   "metadata": {},
   "outputs": [],
   "source": [
    "# 1 neuron with 4 inputs, 4 weights, 1 bias\n",
    "\n",
    "inputs = [1.0, 2.0, 3.0, 2.5]\n",
    "weights = [0.2, 0.8, -0.5, 1.0]\n",
    "bias = 2.0\n",
    "\n",
    "output = inputs[0]*weights[0] + inputs[1]*weights[1] + inputs[2]*weights[2] + inputs[3]*weights[3] + bias\n",
    "print(output)"
   ]
  },
  {
   "cell_type": "markdown",
   "metadata": {},
   "source": [
    "## Part 2: Three neurons with 4 inputs"
   ]
  },
  {
   "cell_type": "code",
   "execution_count": 4,
   "metadata": {},
   "outputs": [
    {
     "name": "stdout",
     "output_type": "stream",
     "text": [
      "[(4.8,), (1.21,), (2.385,)]\n"
     ]
    }
   ],
   "source": [
    "# 3 neuron with 4 inputs\n",
    "## each of the 4 inputs is outgoing to 3 neurons\n",
    "## 3 neurons => 3 unique weight sets (arrays) : w1, w2, w3\n",
    "## each weight set has four values: w1[val1,val2,val3,val4], w2[val2,val3,val4,val5], w3[val6,val7,val8,val9]\n",
    "## 3 neurons => 3 biases : bias1, bias2, bias3\n",
    "## 3 neurons => 3 outputs : output1, output2, output3;\n",
    "## the combined output of the 3 neurons is an array : output = [output1, output2, output3]\n",
    "\n",
    "inputs = [1.0, 2.0, 3.0, 2.5]\n",
    "weights1 = [0.2, 0.8, -0.5, 1.0]\n",
    "weights2 = [0.5, -0.91, 0.26, -0.5]\n",
    "weights3 = [-0.26, -0.27, 0.17, 0.87]\n",
    "\n",
    "bias1 = 2.0\n",
    "bias2 = 3.0\n",
    "bias3 = 0.5\n",
    "\n",
    "output1 = inputs[0]*weights1[0] + inputs[1]*weights1[1] + inputs[2]*weights1[2] + inputs[3]*weights1[3] + bias1,\n",
    "output2 = inputs[0]*weights2[0] + inputs[1]*weights2[1] + inputs[2]*weights2[2] + inputs[3]*weights2[3] + bias2,\n",
    "output3 = inputs[0]*weights3[0] + inputs[1]*weights3[1] + inputs[2]*weights3[2] + inputs[3]*weights3[3] + bias3,\n",
    "\n",
    "output = [output1, output2, output3]\n",
    "print(output)"
   ]
  },
  {
   "cell_type": "markdown",
   "metadata": {},
   "source": [
    "### Part 3a : The Dot Product in pure python"
   ]
  },
  {
   "cell_type": "code",
   "execution_count": 1,
   "metadata": {},
   "outputs": [
    {
     "name": "stdout",
     "output_type": "stream",
     "text": [
      "[4.8, 1.21, 2.385]\n"
     ]
    }
   ],
   "source": [
    "inputs = [1.0, 2.0, 3.0, 2.5]\n",
    "\n",
    "weights = [[0.2, 0.8, -0.5, 1.0],[0.5, -0.91, 0.26, -0.5],[-0.26, -0.27, 0.17, 0.87]]\n",
    "\n",
    "biases = [2.0, 3.0, 0.5]\n",
    "\n",
    "layer_output = []\n",
    "\n",
    "# implementation of the dot product   \n",
    "\n",
    "for neuron_weights, neuron_bias in zip(weights, biases):\n",
    "    neuron_output = 0\n",
    "\n",
    "    for n_input, weight in zip(inputs, neuron_weights):\n",
    "        neuron_output += n_input*weight\n",
    "    neuron_output += neuron_bias\n",
    "    layer_output.append(neuron_output)\n",
    "\n",
    "print(layer_output)"
   ]
  },
  {
   "cell_type": "markdown",
   "metadata": {},
   "source": [
    "## What is the dot product ?\n",
    "\n",
    "#### It is the sum of the products of the corresponding entries in two sequences of numbers. It is a scalar (a number), not a vector.\n",
    "\n",
    "#### Dot product of two vectors a and b :\n",
    "\n",
    "a = [a1, a2, a3]\n",
    "\n",
    "b = [b1, b2, b3]\n",
    "\n",
    "dot product = a1.b1 + a2.b2 + a3.b3"
   ]
  },
  {
   "cell_type": "markdown",
   "metadata": {},
   "source": [
    "## Implementation of the dot product\n",
    "\n",
    "#### The Main for loop : `for neuron_weights, neuron_bias in zip(weights, bias) :`\n",
    "\n",
    "#### It uses two temporary variables (neuron_weights, neuron_bias) to store the weights and biases for each neuron.\n",
    "\n",
    "> weights = [[0.2, 0.8, -0.5, 1.0],[0.5, -0.91, 0.26, -0.5],[-0.26, -0.27, 0.17, 0.87]]\n",
    "\n",
    "> bias = [2.0, 3.0, 0.5]\n",
    "\n",
    "\n",
    "<br/><br/>\n",
    "\n",
    "> Iteration 1 :\n",
    "\n",
    "*`neuron_weights = [0.2, 0.8, -0.5, 1.0]`*\n",
    "\n",
    "`neuron_bias = 2.0`\n",
    "\n",
    "> the neuron_weights[0] and neuron_bias[0] corresponding to neuron 1 are paired up in a tuple : `([0.2, 0.8, -0.5, 1.0], 2.0)`\n",
    "\n",
    "<br/><br/>\n",
    "\n",
    ">Iteration 2 :\n",
    "\n",
    "`neuron_weights = [0.5, -0.91, 0.26, -0.5]`\n",
    "\n",
    "`neuron_bias = 3.0`\n",
    "\n",
    "> the neuron_weights[1] and neuron_bias[1] corresponding to neuron 2 are paired up in a tuple : `([0.5, -0.91, 0.26, -0.5], 3.0)`\n",
    "\n",
    "<br/><br/>\n",
    "\n",
    ">Iteration 3 : \n",
    "\n",
    "`neuron_weights = [-0.26, -0.27, 0.17, 0.87]`\n",
    "\n",
    "`neuron_bias = 0.5`\n",
    "\n",
    "> the neuron_weights[2] and neuron_bias[2] corresponding to neuron 3 are paired up in a tuple : `([-0.26, -0.27, 0.17, 0.87], 0.5)`\n",
    "\n"
   ]
  },
  {
   "cell_type": "markdown",
   "metadata": {},
   "source": [
    "    ### Nested loop : `for n_input, weight in zip(inputs, neuron_weights) :` \n",
    "\n",
    ">Iterates 4 times (one for each input value) over the `inputs` and `neuron_weights` lists simultaneously. \n",
    "    >For each iteration :\n",
    "    \n",
    ">`n_input` gets one input value from the `inputs` list : `[1.0, 2.0, 3.0, 2.5]`\n",
    "\n",
    ">`weight` gets the corresponding weight from the `neuron_weights` list : `[0.2, 0.8, -0.5, 1.0]`\n",
    "\n",
    ">produces the pair `(n_input, weight)` items and multiplies them : `n_input*weight`  \n",
    ">\n",
    "\n",
    "<br/><br/>\n",
    "\n",
    ">Nested loop Iteration 1 :\n",
    "\n",
    "`neuron_weights = [0.2, 0.8, -0.5, 1.0]`\n",
    "\n",
    "`n_input = 1.0`, `weight = 0.2` are paired up ->`(1.0, 0.2)` then multiplied : `1.0 * 0.2` -> is added to neuron_output -> `neuron_output += 0.2` \n",
    "\n",
    "=> `neuron_output = 0.2`\n",
    "\n",
    "<br/><br/>\n",
    "\n",
    ">Nested loop Iteration 2 :\n",
    "\n",
    "`neuron_weights = [0.2, 0.8, -0.5, 1.0]`\n",
    "\n",
    "`n_input = 2.0`, `weight = 0.8` are paired up ->`(2.0, 0.8)` then multiplied : `2.0 * 0.8` -> is added to neuron_output -> `neuron_output += 1.6` \n",
    "\n",
    "=> `neuron_output = 1.8`\n",
    "\n",
    "<br/><br/>\n",
    "\n",
    ">Nested loop Iteration 3 :\n",
    "\n",
    "`neuron_weights = [0.2, 0.8, -0.5, 1.0]`\n",
    "\n",
    "`n_input = 3.0`, `weight = -0.5` are paired up ->`(3.0, -0.5)` then multiplied : `3.0 * -0.5` -> is added to neuron_output -> `neuron_output += -1.5` \n",
    "\n",
    "=> `neuron_output = 0.3`\n",
    "\n",
    "<br/><br/>\n",
    "\n",
    ">Nested loop Iteration 4 :\n",
    "\n",
    "`neuron_weights = [0.2, 0.8, -0.5, 1.0]`\n",
    "\n",
    "`n_input = 2.5`, `weight = 1.0` are paired up ->`(2.5, 1.0)` then multiplied : `2.5 * 1.0` -> is added to neuron_output -> `neuron_output += 2.5` \n",
    "\n",
    "=> `neuron_output = 2.3`\n"
   ]
  },
  {
   "cell_type": "markdown",
   "metadata": {},
   "source": [
    "### Right after the inner for loop, the neuron_output is added to the bias\n",
    "\n",
    "`neuron_output += neuron_bias` After the inner loop completes, add the neuron's bias to the neuron_output. This completes the calculation for one neuron.\n",
    "\n",
    "\n",
    "> Iteration 1 :\n",
    "\n",
    "neuron_output = 0.2 , neuron_bias = 2.0 -> neuron_output += neuron_bias -> neuron_output = 2.2\n",
    "\n",
    "> Iteration 2 :\n",
    "\n",
    "neuron_output = 2.2 , neuron_bias = 3.0 -> neuron_output += neuron_bias -> neuron_output = 5.2\n",
    "\n",
    "> Iteration 3 :\n",
    "\n",
    "neuron_output = 5.2 , neuron_bias = 0.5 -> neuron_output += neuron_bias -> neuron_output = 5.7"
   ]
  },
  {
   "cell_type": "markdown",
   "metadata": {},
   "source": [
    "### Add the calculated neuron_output to the layer_output list. This stores the output of each neuron in the layer.\n",
    "\n",
    "`layer_output.append(neuron_output)`\n",
    "\n",
    "This code calculates the output of a layer of neurons using matrix multiplication (implemented as nested loops) and then adds the bias terms. The result is a list of outputs, one for each neuron in the layer.\n",
    "\n",
    "So in our case, the layer_output list will have 3 values : [2.2, 5.2, 5.7]\n",
    "\n"
   ]
  },
  {
   "cell_type": "markdown",
   "metadata": {},
   "source": [
    "### Part 3b : The Dot Product using numpy\n",
    "\n"
   ]
  },
  {
   "cell_type": "code",
   "execution_count": 1,
   "metadata": {},
   "outputs": [
    {
     "name": "stdout",
     "output_type": "stream",
     "text": [
      "[4.8   1.21  2.385]\n"
     ]
    }
   ],
   "source": [
    "import sys\n",
    "import numpy as np\n",
    "import matplotlib\n",
    "\n",
    "inputs = [1.0, 2.0, 3.0, 2.5] # a sample of 4 features\n",
    "weights = [[0.2, 0.8, -0.5, 1.0],[0.5, -0.91, 0.26, -0.5],[-0.26, -0.27, 0.17, 0.87]]\n",
    "biases = [2.0, 3.0, 0.5]\n",
    "\n",
    "# weights must come first in the dot product function when a matrix is multiplied by a scalar\n",
    "# the dot product function perform the same operation as the loops in the previous example\n",
    "# they iterate over the inputs and weights, multiply them and add them to the bias\n",
    "\n",
    "output = np.dot(weights, inputs) + biases\n",
    "# np.dot(weights, inputs) = [np.dot(weight[0], inputs), np.dot(weight[1], inputs), np.dot(weight[2], inputs)]\n",
    "# np.dot(weight[0], inputs) = 0.2*1.0 + 0.8*2.0 + -0.5*3.0 + 1.0*2.5 = 0.2 + 1.6 + -1.5 + 2.5 = 2.8\n",
    "# np.dot(weight[1], inputs) = 0.5*1.0 + -0.91*2.0 + 0.26*3.0 + -0.5*2.5 = 0.5 + -1.82 + 0.78 + -1.25 = -1.79\n",
    "# np.dot(weight[2], inputs) = -0.26*1.0 + -0.27*2.0 + 0.17*3.0 + 0.87*2.5 = -0.26 + -0.54 + 0.51 + 2.175 = 1.905\n",
    "\n",
    "# np.dot(weights, inputs) = [2.8, -1.79, 1.905]\n",
    "\n",
    "# np.dot(weights, inputs) + biases = [2.8, -1.79, 1.905] + [2.0, 3.0, 0.5] = [4.8, 1.21, 2.405]\n",
    "\n",
    "print(output)"
   ]
  },
  {
   "cell_type": "markdown",
   "metadata": {},
   "source": [
    "## part 3c : Batches, Layers objects"
   ]
  },
  {
   "cell_type": "code",
   "execution_count": 6,
   "metadata": {},
   "outputs": [
    {
     "name": "stdout",
     "output_type": "stream",
     "text": [
      "[[ 0.5031  -1.04185 -2.03875]\n",
      " [ 0.2434  -2.7332  -5.7633 ]\n",
      " [-0.99314  1.41254 -0.35655]]\n"
     ]
    }
   ],
   "source": [
    "import numpy as np\n",
    "\n",
    "# 3x4 matrix of 3 samples of 4 features each (3 different measurements of 4 different sensors)\n",
    "inputs = [[1.0, 2.0, 3.0, 2.5], # sample 1\n",
    "          [2.0, 5.0, -1.0, 2.0], # sample 2\n",
    "          [-1.5, 2.7, 3.3, -0.8]] # sample 3\n",
    "\n",
    "# layer 1 : 3x4 matrix , 3 neurons with 4 inputs each\n",
    "\n",
    "weights = [[0.2, 0.8, -0.5, 1.0], # neuron 1 layer 1\n",
    "           [0.5, -0.91, 0.26, -0.5], # neuron 2\n",
    "           [-0.26, -0.27, 0.17, 0.87]] # neuron 3\n",
    "\n",
    "biases = [2.0, 3.0, 0.5] # 1 bias per neuron\n",
    "\n",
    "# layer 2 : 3x3 matrix , 3 neurons with 3 inputs each   \n",
    "weights2 = [[0.1, -0.14, 0.5], # neuron 1 layer 2   \n",
    "            [-0.5, 0.12, -0.33], # neuron 2 layer 2\n",
    "            [-0.44, 0.73, -0.13]] # neuron 3 layer 2    \n",
    "\n",
    "\n",
    "biases2 = [-1.0, 2.0, -0.5]\n",
    "\n",
    "layer1_outputs = np.dot(inputs, np.array(weights).T) + biases\n",
    "\n",
    "layer2_outputs = np.dot(layer1_outputs, np.array(weights2).T) + biases2\n",
    "\n",
    "print(layer2_outputs)\n",
    "\n"
   ]
  },
  {
   "cell_type": "markdown",
   "metadata": {},
   "source": [
    "# part 4 : Converting layers to objects"
   ]
  },
  {
   "cell_type": "code",
   "execution_count": 26,
   "metadata": {},
   "outputs": [
    {
     "name": "stdout",
     "output_type": "stream",
     "text": [
      "X is a matrix (a batch of samples) with a shape (dimensions) of (3, 4)\n",
      "[[1.0, 2.0, 3.0, 2.5], [2.0, 5.0, -1.0, 2.0], [-1.5, 2.7, 3.3, -0.8]]\n",
      "Type of X is <class 'list'>\n",
      "\n",
      "\n",
      "Randomly initialized weights is a matrix with a shape (dimensions) of:(4, 5)\n",
      "[[ 0.17640523  0.04001572  0.0978738   0.22408932  0.1867558 ]\n",
      " [-0.09772779  0.09500884 -0.01513572 -0.01032189  0.04105985]\n",
      " [ 0.01440436  0.14542735  0.07610377  0.0121675   0.04438632]\n",
      " [ 0.03336743  0.14940791 -0.02051583  0.03130677 -0.08540957]]\n",
      "\n",
      "\n",
      "Biases is a matrix with a shape (dimensions) of:(1, 5)\n",
      "[[0. 0. 0. 0. 0.]]\n",
      "\n",
      "\n",
      "Layer 1 output is a matrix with a shape (dimensions) of:(3, 5)\n",
      "[[ 0.10758131  1.03983522  0.24462411  0.31821498  0.18851053]\n",
      " [-0.08349796  0.70846411  0.00293357  0.44701525  0.36360538]\n",
      " [-0.50763245  0.55688422  0.07987797 -0.34889573  0.04553042]]\n",
      "\n",
      "\n",
      "Layer2 inputs is a matrix (a batch of samples) with a shape (dimensions) of (3, 5)\n",
      "[[ 0.10758131  1.03983522  0.24462411  0.31821498  0.18851053]\n",
      " [-0.08349796  0.70846411  0.00293357  0.44701525  0.36360538]\n",
      " [-0.50763245  0.55688422  0.07987797 -0.34889573  0.04553042]]\n",
      "Type of layer2 inputs is <class 'numpy.ndarray'>\n",
      "\n",
      "\n",
      "Layer2 Randomly initialized weights is a matrix with a shape (dimensions) of:(5, 2)\n",
      "[[-0.25529898  0.06536186]\n",
      " [ 0.08644362 -0.0742165 ]\n",
      " [ 0.22697546 -0.14543657]\n",
      " [ 0.00457585 -0.01871839]\n",
      " [ 0.15327792  0.14693588]]\n",
      "\n",
      "\n",
      " Layer2 biases is a matrix with a shape (dimensions) of:(1, 2)\n",
      "[[0. 0.]]\n",
      "\n",
      "\n",
      "Layer 2 output is a matrix with a shape (dimensions) of:(3, 2)\n",
      "[[ 0.148296   -0.08397602]\n",
      " [ 0.14100315 -0.01340469]\n",
      " [ 0.20124979 -0.07290616]]\n"
     ]
    }
   ],
   "source": [
    "import numpy as np\n",
    "\n",
    "# 3x4 matrix of 3 samples of 4 features each (3 different measurements of 4 different sensors at a given time)\n",
    "X = [[1.0, 2.0, 3.0, 2.5], # sample 1\n",
    "     [2.0, 5.0, -1.0, 2.0], # sample 2\n",
    "     [-1.5, 2.7, 3.3, -0.8]] # sample 3\n",
    "\n",
    "# initializing weights randomly\n",
    "np.random.seed(0)\n",
    "\n",
    "#layer constructor\n",
    "class Layer_Dense:\n",
    "    \n",
    "    # layer initialization (where 'n_inputs'= number of inputs and features, and 'n_neurons'= number of neurons of our choosing)\n",
    "    def __init__(self, n_inputs,n_neurons):\n",
    "       \n",
    "        # 'n_neurons' sets of weights of n_inputs features are initialized with a small random number\n",
    "        self.weights = 0.10 * np.random.randn(n_inputs, n_neurons) # !! inverting the shape of weights (4x3 instead of 3x4) avoids us having to transpose it during fwd pass\n",
    "        \n",
    "        # 'n_neurons' biases are initialized to zero\n",
    "        self.biases = np.zeros((1,n_neurons)) # !! the parameter is a tuple representing the shape of the biases matrix, it must be surrounded by parenthesis\n",
    "    \n",
    "    # the fwd method takes the 'n_inputs' inputs (training data or output of previous layer)\n",
    "    def forward(self, inputs):\n",
    "        self.output = np.dot(inputs, self.weights) + self.biases\n",
    "\n",
    "layer1 = Layer_Dense(4,5) # layer 1 initialization. we choose 'n_neurons' = 5 and 'n_inputs' is derived from the input data X shape (4, )\n",
    "# => 5 sets of weights of 4 features are initialized with a small random number\n",
    "# => 1 set of 5 biases are initialized to zero\n",
    "\n",
    "# the fwd method takes the 4 inputs of the training data and performs the dot product inputs.dot(weights) and adds the biases\n",
    "layer1.forward(X)\n",
    "\n",
    "print(\"Layer1 inputs is a matrix (a batch of samples) with a shape (dimensions) of \" + str(np.array(X).shape))\n",
    "print(X)\n",
    "print(\"Type of Layer1 inputs is \" + str(type(X)))\n",
    "\n",
    "print('\\n')\n",
    "\n",
    "print(\"Layer1Randomly initialized weights is a matrix with a shape (dimensions) of:\" + str(np.array(layer1.weights).shape))\n",
    "print(layer1.weights)\n",
    "\n",
    "print('\\n')\n",
    "\n",
    "print(\"Layer1 Biases is a matrix with a shape (dimensions) of:\" + str(np.array(layer1.biases).shape))\n",
    "print(layer1.biases)\n",
    "\n",
    "print('\\n')\n",
    "\n",
    "print(\"Layer1 output is a matrix with a shape (dimensions) of:\" + str(np.array(layer1.output).shape))\n",
    "print(layer1.output)\n",
    "\n",
    "print('\\n')\n",
    "\n",
    "layer2 = Layer_Dense(5,2) # layer 2 initialization. we choose 'n_neurons' = 2 and 'n_inputs' is derived from the number of neurons of the previous layer (5)\n",
    "# => 2 sets of weights of 5 features are initialized with a small random number\n",
    "# => 1 set of 2 biases are initialized to zero\n",
    "\n",
    "# the fwd method takes the 5 inputs of the training data and performs the dot product inputs.dot(weights) and adds the biases\n",
    "layer2.forward(layer1.output)\n",
    "\n",
    "print(\"Layer2 inputs is a matrix with a shape (dimensions) of \" + str(np.array(layer1.output).shape))\n",
    "print(layer1.output)\n",
    "print(\"Type of layer2 inputs is \" + str(type(layer1.output)))\n",
    "\n",
    "print('\\n')\n",
    "\n",
    "print(\"Layer2 Randomly initialized weights is a matrix with a shape (dimensions) of:\" + str(np.array(layer2.weights).shape))\n",
    "print(layer2.weights)\n",
    "\n",
    "print('\\n')\n",
    "\n",
    "print(\" Layer2 biases is a matrix with a shape (dimensions) of:\" + str(np.array(layer2.biases).shape))\n",
    "print(layer2.biases)\n",
    "\n",
    "print('\\n')\n",
    "\n",
    "print(\"Layer2 output is a matrix with a shape (dimensions) of:\" + str(np.array(layer2.output).shape))\n",
    "print(layer2.output)\n",
    "\n",
    "\n"
   ]
  }
 ],
 "metadata": {
  "kernelspec": {
   "display_name": "venv-sentdex-nnfs",
   "language": "python",
   "name": "venv-sentdex-nnfs"
  },
  "language_info": {
   "codemirror_mode": {
    "name": "ipython",
    "version": 3
   },
   "file_extension": ".py",
   "mimetype": "text/x-python",
   "name": "python",
   "nbconvert_exporter": "python",
   "pygments_lexer": "ipython3",
   "version": "3.12.4"
  }
 },
 "nbformat": 4,
 "nbformat_minor": 4
}
